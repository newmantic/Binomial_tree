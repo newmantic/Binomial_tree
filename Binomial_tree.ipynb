{
  "nbformat": 4,
  "nbformat_minor": 0,
  "metadata": {
    "colab": {
      "provenance": [],
      "authorship_tag": "ABX9TyODWA6p4v2Zq7t/2p3oa7jI",
      "include_colab_link": true
    },
    "kernelspec": {
      "name": "python3",
      "display_name": "Python 3"
    },
    "language_info": {
      "name": "python"
    }
  },
  "cells": [
    {
      "cell_type": "markdown",
      "metadata": {
        "id": "view-in-github",
        "colab_type": "text"
      },
      "source": [
        "<a href=\"https://colab.research.google.com/github/newmantic/Binomial_tree/blob/main/Binomial_tree.ipynb\" target=\"_parent\"><img src=\"https://colab.research.google.com/assets/colab-badge.svg\" alt=\"Open In Colab\"/></a>"
      ]
    },
    {
      "cell_type": "code",
      "execution_count": 1,
      "metadata": {
        "id": "27AVMIo0200J"
      },
      "outputs": [],
      "source": [
        "import numpy as np\n",
        "\n",
        "def binomial_tree_european(S0, K, T, r, sigma, N, option_type='call'):\n",
        "    \"\"\"\n",
        "    Binomial Tree model for pricing European options.\n",
        "\n",
        "    Parameters:\n",
        "    - S0: Current stock price\n",
        "    - K: Strike price\n",
        "    - T: Time to maturity (in years)\n",
        "    - r: Risk-free interest rate (annual)\n",
        "    - sigma: Volatility of the underlying asset (annual)\n",
        "    - N: Number of steps in the binomial tree\n",
        "    - option_type: 'call' for call option, 'put' for put option\n",
        "\n",
        "    Returns:\n",
        "    - option_price: The price of the European option\n",
        "    \"\"\"\n",
        "    # Calculate parameters\n",
        "    dt = T / N\n",
        "    u = np.exp(sigma * np.sqrt(dt))\n",
        "    d = 1 / u\n",
        "    p = (np.exp(r * dt) - d) / (u - d)\n",
        "\n",
        "    # Initialize asset prices at maturity\n",
        "    ST = np.zeros(N + 1)\n",
        "    for i in range(N + 1):\n",
        "        ST[i] = S0 * (u ** i) * (d ** (N - i))\n",
        "\n",
        "    # Initialize option values at maturity\n",
        "    if option_type == 'call':\n",
        "        option_values = np.maximum(0, ST - K)\n",
        "    elif option_type == 'put':\n",
        "        option_values = np.maximum(0, K - ST)\n",
        "    else:\n",
        "        raise ValueError(\"Invalid option type. Choose 'call' or 'put'.\")\n",
        "\n",
        "    # Step back through the tree\n",
        "    for j in range(N - 1, -1, -1):\n",
        "        for i in range(j + 1):\n",
        "            option_values[i] = np.exp(-r * dt) * (p * option_values[i + 1] + (1 - p) * option_values[i])\n",
        "\n",
        "    return option_values[0]"
      ]
    },
    {
      "cell_type": "code",
      "source": [
        "# Parameters\n",
        "S0 = 100         # Current stock price\n",
        "K = 100          # Strike price\n",
        "T = 1            # Time to maturity (1 year)\n",
        "r = 0.05         # Risk-free interest rate (5% per annum)\n",
        "sigma = 0.2      # Volatility (20% per annum)\n",
        "N = 3            # Number of steps in the binomial tree\n",
        "\n",
        "# Price the European call option\n",
        "call_price = binomial_tree_european(S0, K, T, r, sigma, N, option_type='call')\n",
        "print(f\"European Call Option Price: {call_price:.2f}\")\n",
        "\n",
        "# Price the European put option\n",
        "put_price = binomial_tree_european(S0, K, T, r, sigma, N, option_type='put')\n",
        "print(f\"European Put Option Price: {put_price:.2f}\")"
      ],
      "metadata": {
        "colab": {
          "base_uri": "https://localhost:8080/"
        },
        "id": "vnihJTMs3QPd",
        "outputId": "d0973187-7eca-4064-f4ef-763927390480"
      },
      "execution_count": 2,
      "outputs": [
        {
          "output_type": "stream",
          "name": "stdout",
          "text": [
            "European Call Option Price: 11.04\n",
            "European Put Option Price: 6.17\n"
          ]
        }
      ]
    },
    {
      "cell_type": "code",
      "source": [
        "def binomial_tree_american(S0, K, T, r, sigma, N, option_type='call'):\n",
        "    \"\"\"\n",
        "    Binomial Tree model for pricing American options.\n",
        "\n",
        "    Parameters:\n",
        "    - S0: Current stock price\n",
        "    - K: Strike price\n",
        "    - T: Time to maturity (in years)\n",
        "    - r: Risk-free interest rate (annual)\n",
        "    - sigma: Volatility of the underlying asset (annual)\n",
        "    - N: Number of steps in the binomial tree\n",
        "    - option_type: 'call' for call option, 'put' for put option\n",
        "\n",
        "    Returns:\n",
        "    - option_price: The price of the American option\n",
        "    \"\"\"\n",
        "    # Calculate parameters\n",
        "    dt = T / N\n",
        "    u = np.exp(sigma * np.sqrt(dt))\n",
        "    d = 1 / u\n",
        "    p = (np.exp(r * dt) - d) / (u - d)\n",
        "\n",
        "    # Initialize asset prices at maturity\n",
        "    ST = np.zeros(N + 1)\n",
        "    for i in range(N + 1):\n",
        "        ST[i] = S0 * (u ** i) * (d ** (N - i))\n",
        "\n",
        "    # Initialize option values at maturity\n",
        "    if option_type == 'call':\n",
        "        option_values = np.maximum(0, ST - K)\n",
        "    elif option_type == 'put':\n",
        "        option_values = np.maximum(0, K - ST)\n",
        "    else:\n",
        "        raise ValueError(\"Invalid option type. Choose 'call' or 'put'.\")\n",
        "\n",
        "    # Step back through the tree, checking for early exercise\n",
        "    for j in range(N - 1, -1, -1):\n",
        "        for i in range(j + 1):\n",
        "            ST[i] = S0 * (u ** i) * (d ** (j - i))\n",
        "            hold_value = np.exp(-r * dt) * (p * option_values[i + 1] + (1 - p) * option_values[i])\n",
        "            exercise_value = max(ST[i] - K, 0) if option_type == 'call' else max(K - ST[i], 0)\n",
        "            option_values[i] = max(hold_value, exercise_value)\n",
        "\n",
        "    return option_values[0]"
      ],
      "metadata": {
        "id": "kb_QnX323Wjj"
      },
      "execution_count": 3,
      "outputs": []
    },
    {
      "cell_type": "code",
      "source": [
        "# Price the American call option\n",
        "american_call_price = binomial_tree_american(S0, K, T, r, sigma, N, option_type='call')\n",
        "print(f\"American Call Option Price: {american_call_price:.2f}\")\n",
        "\n",
        "# Price the American put option\n",
        "american_put_price = binomial_tree_american(S0, K, T, r, sigma, N, option_type='put')\n",
        "print(f\"American Put Option Price: {american_put_price:.2f}\")"
      ],
      "metadata": {
        "colab": {
          "base_uri": "https://localhost:8080/"
        },
        "id": "AQeQ1CQT3Z-0",
        "outputId": "d79201fa-6bd3-4f5c-d27c-64ef931eac91"
      },
      "execution_count": 4,
      "outputs": [
        {
          "output_type": "stream",
          "name": "stdout",
          "text": [
            "American Call Option Price: 11.04\n",
            "American Put Option Price: 6.50\n"
          ]
        }
      ]
    }
  ]
}